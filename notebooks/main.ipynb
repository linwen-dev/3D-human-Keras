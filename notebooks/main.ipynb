{
 "cells": [
  {
   "cell_type": "markdown",
   "metadata": {
    "ExecuteTime": {
     "end_time": "2016-11-05T15:35:19.866893",
     "start_time": "2016-11-05T15:35:19.861686"
    },
    "collapsed": false
   },
   "source": [
    "Where I try to make a variational auto encoder (VAE) that fits makehuman data.\n",
    "\n",
    "Goal: find if it's faster and takes less memory to use a fitted model, that the normal morphtargets. The morphtargets are linear interp so probobly not but we will see. There may also be additional side effects to this, and I could ask humans to classify the models to possibly get more accurate labels."
   ]
  },
  {
   "cell_type": "code",
   "execution_count": 1,
   "metadata": {
    "ExecuteTime": {
     "end_time": "2016-11-18T13:18:14.100296",
     "start_time": "2016-11-18T13:18:12.001648"
    },
    "collapsed": false
   },
   "outputs": [
    {
     "name": "stderr",
     "output_type": "stream",
     "text": [
      "Using TensorFlow backend.\n"
     ]
    },
    {
     "ename": "ImportError",
     "evalue": "No module named tensorflow",
     "traceback": [
      "\u001b[1;31m\u001b[0m",
      "\u001b[1;31mImportError\u001b[0mTraceback (most recent call last)",
      "\u001b[1;32m<ipython-input-1-5408009d3d7e>\u001b[0m in \u001b[0;36m<module>\u001b[1;34m()\u001b[0m\n\u001b[1;32m----> 1\u001b[1;33m \u001b[1;32mimport\u001b[0m \u001b[0mkeras\u001b[0m\u001b[1;33m\u001b[0m\u001b[0m\n\u001b[0m\u001b[0;32m      2\u001b[0m \u001b[1;32mimport\u001b[0m \u001b[0mjson\u001b[0m\u001b[1;33m\u001b[0m\u001b[0m\n\u001b[0;32m      3\u001b[0m \u001b[1;32mimport\u001b[0m \u001b[0mnumpy\u001b[0m \u001b[1;32mas\u001b[0m \u001b[0mnp\u001b[0m\u001b[1;33m\u001b[0m\u001b[0m\n\u001b[0;32m      4\u001b[0m \u001b[1;32mimport\u001b[0m \u001b[0mpandas\u001b[0m \u001b[1;32mas\u001b[0m \u001b[0mpd\u001b[0m\u001b[1;33m\u001b[0m\u001b[0m\n\u001b[0;32m      5\u001b[0m \u001b[1;32mfrom\u001b[0m \u001b[0mmatplotlib\u001b[0m \u001b[1;32mimport\u001b[0m \u001b[0mpyplot\u001b[0m \u001b[1;32mas\u001b[0m \u001b[0mplt\u001b[0m\u001b[1;33m\u001b[0m\u001b[0m\n",
      "\u001b[1;32mC:\\ProgramData\\Anaconda2\\lib\\site-packages\\keras\\__init__.py\u001b[0m in \u001b[0;36m<module>\u001b[1;34m()\u001b[0m\n\u001b[0;32m      1\u001b[0m \u001b[1;32mfrom\u001b[0m \u001b[0m__future__\u001b[0m \u001b[1;32mimport\u001b[0m \u001b[0mabsolute_import\u001b[0m\u001b[1;33m\u001b[0m\u001b[0m\n\u001b[0;32m      2\u001b[0m \u001b[1;33m\u001b[0m\u001b[0m\n\u001b[1;32m----> 3\u001b[1;33m \u001b[1;32mfrom\u001b[0m \u001b[1;33m.\u001b[0m \u001b[1;32mimport\u001b[0m \u001b[0mactivations\u001b[0m\u001b[1;33m\u001b[0m\u001b[0m\n\u001b[0m\u001b[0;32m      4\u001b[0m \u001b[1;32mfrom\u001b[0m \u001b[1;33m.\u001b[0m \u001b[1;32mimport\u001b[0m \u001b[0mapplications\u001b[0m\u001b[1;33m\u001b[0m\u001b[0m\n\u001b[0;32m      5\u001b[0m \u001b[1;32mfrom\u001b[0m \u001b[1;33m.\u001b[0m \u001b[1;32mimport\u001b[0m \u001b[0mbackend\u001b[0m\u001b[1;33m\u001b[0m\u001b[0m\n",
      "\u001b[1;32mC:\\ProgramData\\Anaconda2\\lib\\site-packages\\keras\\activations.py\u001b[0m in \u001b[0;36m<module>\u001b[1;34m()\u001b[0m\n\u001b[0;32m      2\u001b[0m \u001b[1;32mimport\u001b[0m \u001b[0msix\u001b[0m\u001b[1;33m\u001b[0m\u001b[0m\n\u001b[0;32m      3\u001b[0m \u001b[1;32mimport\u001b[0m \u001b[0mwarnings\u001b[0m\u001b[1;33m\u001b[0m\u001b[0m\n\u001b[1;32m----> 4\u001b[1;33m \u001b[1;32mfrom\u001b[0m \u001b[1;33m.\u001b[0m \u001b[1;32mimport\u001b[0m \u001b[0mbackend\u001b[0m \u001b[1;32mas\u001b[0m \u001b[0mK\u001b[0m\u001b[1;33m\u001b[0m\u001b[0m\n\u001b[0m\u001b[0;32m      5\u001b[0m \u001b[1;32mfrom\u001b[0m \u001b[1;33m.\u001b[0m\u001b[0mutils\u001b[0m\u001b[1;33m.\u001b[0m\u001b[0mgeneric_utils\u001b[0m \u001b[1;32mimport\u001b[0m \u001b[0mdeserialize_keras_object\u001b[0m\u001b[1;33m\u001b[0m\u001b[0m\n\u001b[0;32m      6\u001b[0m \u001b[1;32mfrom\u001b[0m \u001b[1;33m.\u001b[0m\u001b[0mengine\u001b[0m \u001b[1;32mimport\u001b[0m \u001b[0mLayer\u001b[0m\u001b[1;33m\u001b[0m\u001b[0m\n",
      "\u001b[1;32mC:\\ProgramData\\Anaconda2\\lib\\site-packages\\keras\\backend\\__init__.py\u001b[0m in \u001b[0;36m<module>\u001b[1;34m()\u001b[0m\n\u001b[0;32m     71\u001b[0m \u001b[1;32melif\u001b[0m \u001b[0m_BACKEND\u001b[0m \u001b[1;33m==\u001b[0m \u001b[1;34m'tensorflow'\u001b[0m\u001b[1;33m:\u001b[0m\u001b[1;33m\u001b[0m\u001b[0m\n\u001b[0;32m     72\u001b[0m     \u001b[0msys\u001b[0m\u001b[1;33m.\u001b[0m\u001b[0mstderr\u001b[0m\u001b[1;33m.\u001b[0m\u001b[0mwrite\u001b[0m\u001b[1;33m(\u001b[0m\u001b[1;34m'Using TensorFlow backend.\\n'\u001b[0m\u001b[1;33m)\u001b[0m\u001b[1;33m\u001b[0m\u001b[0m\n\u001b[1;32m---> 73\u001b[1;33m     \u001b[1;32mfrom\u001b[0m \u001b[1;33m.\u001b[0m\u001b[0mtensorflow_backend\u001b[0m \u001b[1;32mimport\u001b[0m \u001b[1;33m*\u001b[0m\u001b[1;33m\u001b[0m\u001b[0m\n\u001b[0m\u001b[0;32m     74\u001b[0m \u001b[1;32melse\u001b[0m\u001b[1;33m:\u001b[0m\u001b[1;33m\u001b[0m\u001b[0m\n\u001b[0;32m     75\u001b[0m     \u001b[1;32mraise\u001b[0m \u001b[0mValueError\u001b[0m\u001b[1;33m(\u001b[0m\u001b[1;34m'Unknown backend: '\u001b[0m \u001b[1;33m+\u001b[0m \u001b[0mstr\u001b[0m\u001b[1;33m(\u001b[0m\u001b[0m_BACKEND\u001b[0m\u001b[1;33m)\u001b[0m\u001b[1;33m)\u001b[0m\u001b[1;33m\u001b[0m\u001b[0m\n",
      "\u001b[1;32mC:\\ProgramData\\Anaconda2\\lib\\site-packages\\keras\\backend\\tensorflow_backend.py\u001b[0m in \u001b[0;36m<module>\u001b[1;34m()\u001b[0m\n\u001b[1;32m----> 1\u001b[1;33m \u001b[1;32mimport\u001b[0m \u001b[0mtensorflow\u001b[0m \u001b[1;32mas\u001b[0m \u001b[0mtf\u001b[0m\u001b[1;33m\u001b[0m\u001b[0m\n\u001b[0m\u001b[0;32m      2\u001b[0m \u001b[1;32mfrom\u001b[0m \u001b[0mtensorflow\u001b[0m\u001b[1;33m.\u001b[0m\u001b[0mpython\u001b[0m\u001b[1;33m.\u001b[0m\u001b[0mtraining\u001b[0m \u001b[1;32mimport\u001b[0m \u001b[0mmoving_averages\u001b[0m\u001b[1;33m\u001b[0m\u001b[0m\n\u001b[0;32m      3\u001b[0m \u001b[1;32mfrom\u001b[0m \u001b[0mtensorflow\u001b[0m\u001b[1;33m.\u001b[0m\u001b[0mpython\u001b[0m\u001b[1;33m.\u001b[0m\u001b[0mops\u001b[0m \u001b[1;32mimport\u001b[0m \u001b[0mtensor_array_ops\u001b[0m\u001b[1;33m\u001b[0m\u001b[0m\n\u001b[0;32m      4\u001b[0m \u001b[1;32mfrom\u001b[0m \u001b[0mtensorflow\u001b[0m\u001b[1;33m.\u001b[0m\u001b[0mpython\u001b[0m\u001b[1;33m.\u001b[0m\u001b[0mops\u001b[0m \u001b[1;32mimport\u001b[0m \u001b[0mcontrol_flow_ops\u001b[0m\u001b[1;33m\u001b[0m\u001b[0m\n\u001b[0;32m      5\u001b[0m \u001b[1;32mfrom\u001b[0m \u001b[0mtensorflow\u001b[0m\u001b[1;33m.\u001b[0m\u001b[0mpython\u001b[0m\u001b[1;33m.\u001b[0m\u001b[0mops\u001b[0m \u001b[1;32mimport\u001b[0m \u001b[0mfunctional_ops\u001b[0m\u001b[1;33m\u001b[0m\u001b[0m\n",
      "\u001b[1;31mImportError\u001b[0m: No module named tensorflow"
     ],
     "output_type": "error"
    }
   ],
   "source": [
    "import keras\n",
    "import json\n",
    "import numpy as np\n",
    "import pandas as pd\n",
    "from matplotlib import pyplot as plt\n",
    "import seaborn as sns\n",
    "%matplotlib inline"
   ]
  },
  {
   "cell_type": "markdown",
   "metadata": {},
   "source": [
    "# load data\n",
    "\n",
    "The consistent of:\n",
    "- X the delta on each vertice (base vertices as in basemodel.json)\n",
    "- y: the parameters used to generate the vertices (param labels are in metadata.json)"
   ]
  },
  {
   "cell_type": "code",
   "execution_count": 3,
   "metadata": {
    "ExecuteTime": {
     "end_time": "2016-11-18T13:18:14.254502",
     "start_time": "2016-11-18T13:18:14.103172"
    },
    "collapsed": false,
    "scrolled": true
   },
   "outputs": [],
   "source": [
    "# load\n",
    "from path import Path\n",
    "data_path = Path('../data/20161117-193527_None_vae_data')\n",
    "\n",
    "from keras.utils.io_utils import HDF5Matrix\n",
    "\n",
    "# split into validation data\n",
    "X_train = HDF5Matrix(data_path.joinpath('X_train.hdf5'), 'data')\n",
    "val_indice = int(len(X_train)*0.8)\n",
    "test_indice = int(len(X_train)*0.9)\n",
    "\n",
    "X_train = HDF5Matrix(data_path.joinpath('X_train.hdf5'), 'data', start=0, end=val_indice)\n",
    "y_train = HDF5Matrix(data_path.joinpath('y_train.hdf5'), 'data', start=0, end=val_indice)\n",
    "X_val = HDF5Matrix(data_path.joinpath('X_train.hdf5'), 'data', start=val_indice, end=test_indice)\n",
    "y_val = HDF5Matrix(data_path.joinpath('y_train.hdf5'), 'data', start=val_indice, end=test_indice)\n",
    "X_test = HDF5Matrix(data_path.joinpath('X_train.hdf5'), 'data', start=test_indice, end=None)\n",
    "y_test = HDF5Matrix(data_path.joinpath('y_train.hdf5'), 'data', start=test_indice, end=None)"
   ]
  },
  {
   "cell_type": "code",
   "execution_count": 4,
   "metadata": {
    "ExecuteTime": {
     "end_time": "2016-11-18T13:18:14.361656",
     "start_time": "2016-11-18T13:18:14.255666"
    },
    "collapsed": false
   },
   "outputs": [
    {
     "data": {
      "text/plain": [
       "((7903, 19158, 3), (7903, 249), 249)"
      ]
     },
     "execution_count": 4,
     "metadata": {},
     "output_type": "execute_result"
    }
   ],
   "source": [
    "import json\n",
    "metadata = json.load(open(data_path.joinpath('metadata.json')))\n",
    "\n",
    "modifier_names = sorted([(int(k),v) for k,v in metadata['target_dict'].items()])\n",
    "modifier_names = [row[1] for row in modifier_names]\n",
    "\n",
    "X_train.shape, y_train.shape, len(modifier_names)"
   ]
  },
  {
   "cell_type": "code",
   "execution_count": 5,
   "metadata": {
    "ExecuteTime": {
     "end_time": "2016-11-18T13:18:14.371289",
     "start_time": "2016-11-18T13:18:14.364931"
    },
    "collapsed": false
   },
   "outputs": [
    {
     "data": {
      "text/plain": [
       "249"
      ]
     },
     "execution_count": 5,
     "metadata": {},
     "output_type": "execute_result"
    }
   ],
   "source": [
    "nb_targets = len(modifier_names)\n",
    "nb_vertices = X_train.shape[1]\n",
    "nb_dims = 3\n",
    "hidden_dims = 107*3\n",
    "batch_size = 32\n",
    "nb_targets"
   ]
  },
  {
   "cell_type": "code",
   "execution_count": 6,
   "metadata": {
    "ExecuteTime": {
     "end_time": "2016-11-18T13:18:14.564038",
     "start_time": "2016-11-18T13:18:14.553880"
    },
    "collapsed": false
   },
   "outputs": [],
   "source": [
    "# tensorflow wants it to split evenly into nice batch sizes\n",
    "train_crop = X_train.shape[0]%batch_size\n",
    "X_train.end-=train_crop\n",
    "y_train.end-=train_crop\n",
    "\n",
    "val_crop = X_val.shape[0]%batch_size\n",
    "X_val.end-=val_crop\n",
    "y_val.end-=val_crop\n",
    "\n",
    "test_crop = X_test.shape[0]%batch_size\n",
    "X_test.end-=test_crop\n",
    "y_test.end-=test_crop\n",
    "\n",
    "assert X_train.shape[0]%batch_size==0\n",
    "assert y_train.shape[0]%batch_size==0\n",
    "assert X_test.shape[0]%batch_size==0\n",
    "assert y_test.shape[0]%batch_size==0\n",
    "assert X_val.shape[0]%batch_size==0\n",
    "assert y_val.shape[0]%batch_size==0"
   ]
  },
  {
   "cell_type": "markdown",
   "metadata": {},
   "source": [
    "# Define model\n"
   ]
  },
  {
   "cell_type": "code",
   "execution_count": 8,
   "metadata": {
    "ExecuteTime": {
     "end_time": "2016-11-18T13:18:22.636513",
     "start_time": "2016-11-18T13:18:22.626843"
    },
    "collapsed": false
   },
   "outputs": [],
   "source": [
    "from keras.models import Sequential\n",
    "from keras.layers import Dense\n",
    "from keras.layers import Reshape, InputLayer, Permute, RepeatVector, Dropout, LocallyConnected1D\n",
    "from keras.layers.core import Activation\n",
    "from keras.layers.normalization import BatchNormalization\n",
    "from keras.layers.convolutional import UpSampling1D\n",
    "from keras.layers.convolutional import Convolution1D, MaxPooling1D\n",
    "from keras.layers.core import Flatten\n",
    "from keras.optimizers import SGD\n",
    "from keras.datasets import mnist\n",
    "import numpy as np\n",
    "from PIL import Image\n",
    "import math"
   ]
  },
  {
   "cell_type": "code",
   "execution_count": 10,
   "metadata": {
    "ExecuteTime": {
     "end_time": "2016-11-18T13:18:34.286388",
     "start_time": "2016-11-18T13:18:34.282416"
    },
    "collapsed": false
   },
   "outputs": [],
   "source": [
    "from keras.layers import (Input, LocallyConnected1D, ZeroPadding1D, Cropping1D, Embedding, Merge, merge,\n",
    "    Cropping2D, Convolution1D, Convolution2D, Deconvolution2D, BatchNormalization, UpSampling1D, RepeatVector)\n",
    "from keras.layers import embeddings, convolutional, activations, normalization, advanced_activations\n",
    "from keras.models import Model"
   ]
  },
  {
   "cell_type": "code",
   "execution_count": 44,
   "metadata": {
    "ExecuteTime": {
     "end_time": "2016-11-18T07:49:48.976359",
     "start_time": "2016-11-18T07:49:48.882600"
    },
    "collapsed": false
   },
   "outputs": [
    {
     "name": "stdout",
     "output_type": "stream",
     "text": [
      "____________________________________________________________________________________________________\n",
      "Layer (type)                     Output Shape          Param #     Connected to                     \n",
      "====================================================================================================\n",
      "input (InputLayer)               (None, 249)           0                                            \n",
      "____________________________________________________________________________________________________\n",
      "dense_4 (Dense)                  (None, 249)           62250       input[0][0]                      \n",
      "____________________________________________________________________________________________________\n",
      "leakyrelu_4 (LeakyReLU)          (None, 249)           0           dense_4[0][0]                    \n",
      "____________________________________________________________________________________________________\n",
      "dense_5 (Dense)                  (None, 249)           62250       leakyrelu_4[0][0]                \n",
      "____________________________________________________________________________________________________\n",
      "leakyrelu_5 (LeakyReLU)          (None, 249)           0           dense_5[0][0]                    \n",
      "____________________________________________________________________________________________________\n",
      "dense_6 (Dense)                  (None, 57474)         14368500    leakyrelu_5[0][0]                \n",
      "____________________________________________________________________________________________________\n",
      "leakyrelu_6 (LeakyReLU)          (None, 57474)         0           dense_6[0][0]                    \n",
      "____________________________________________________________________________________________________\n",
      "output (Reshape)                 (None, 19158, 3)      0           leakyrelu_6[0][0]                \n",
      "====================================================================================================\n",
      "Total params: 14493000\n",
      "____________________________________________________________________________________________________\n"
     ]
    }
   ],
   "source": [
    "# simple 1 layer dense model gives 0.97 acc\n",
    "x = input =  Input((nb_targets,), name='input')\n",
    "\n",
    "x = Dense(nb_targets)(x)\n",
    "x = advanced_activations.LeakyReLU(0.3)(x)\n",
    "\n",
    "x = Dense(nb_targets)(x)\n",
    "x = advanced_activations.LeakyReLU(0.3)(x)\n",
    "\n",
    "x = Dense(nb_vertices*3)(x)\n",
    "x = advanced_activations.LeakyReLU(0.3)(x)\n",
    "\n",
    "x = Reshape((nb_vertices,3),name='output')(x)\n",
    "\n",
    "generator = Model(input,x)\n",
    "\n",
    "generator.summary()"
   ]
  },
  {
   "cell_type": "code",
   "execution_count": 45,
   "metadata": {
    "ExecuteTime": {
     "end_time": "2016-11-18T07:49:50.582635",
     "start_time": "2016-11-18T07:49:50.578647"
    },
    "collapsed": false
   },
   "outputs": [
    {
     "data": {
      "text/plain": [
       "Path('../outputs/20161117-193527_None_vae_data')"
      ]
     },
     "execution_count": 45,
     "metadata": {},
     "output_type": "execute_result"
    }
   ],
   "source": [
    "output_dir = Path('../outputs/'+data_path.name)\n",
    "output_dir.makedirs_p()\n",
    "output_dir"
   ]
  },
  {
   "cell_type": "code",
   "execution_count": 46,
   "metadata": {
    "ExecuteTime": {
     "end_time": "2016-11-18T07:49:51.132991",
     "start_time": "2016-11-18T07:49:51.130592"
    },
    "collapsed": true
   },
   "outputs": [],
   "source": [
    "import arrow\n",
    "ts = arrow.utcnow().format('YYYY-MM-DD_HH-mm-ss')"
   ]
  },
  {
   "cell_type": "code",
   "execution_count": 47,
   "metadata": {
    "ExecuteTime": {
     "end_time": "2016-11-18T09:18:31.053138",
     "start_time": "2016-11-18T07:49:51.754782"
    },
    "collapsed": false,
    "scrolled": true
   },
   "outputs": [
    {
     "name": "stdout",
     "output_type": "stream",
     "text": [
      "Train on 7872 samples, validate on 960 samples\n",
      "Epoch 1/200\n",
      "7872/7872 [==============================] - 46s - loss: 0.9615 - acc: 0.4410 - val_loss: 1.2820 - val_acc: 0.4045\n",
      "Epoch 2/200\n",
      "7872/7872 [==============================] - 42s - loss: 0.7160 - acc: 0.6305 - val_loss: 0.8061 - val_acc: 0.5855\n",
      "Epoch 3/200\n",
      "7872/7872 [==============================] - 36s - loss: 0.5571 - acc: 0.7282 - val_loss: 0.5229 - val_acc: 0.7638\n",
      "Epoch 4/200\n",
      "7872/7872 [==============================] - 35s - loss: 0.4935 - acc: 0.7671 - val_loss: 0.4373 - val_acc: 0.8226\n",
      "Epoch 5/200\n",
      "7872/7872 [==============================] - 33s - loss: 0.4507 - acc: 0.7833 - val_loss: 0.4116 - val_acc: 0.8311\n",
      "Epoch 6/200\n",
      "7872/7872 [==============================] - 24s - loss: 0.4237 - acc: 0.7973 - val_loss: 0.5282 - val_acc: 0.7930\n",
      "Epoch 7/200\n",
      "7872/7872 [==============================] - 25s - loss: 0.3770 - acc: 0.8140 - val_loss: 0.3045 - val_acc: 0.8647\n",
      "Epoch 8/200\n",
      "7872/7872 [==============================] - 24s - loss: 0.3432 - acc: 0.8289 - val_loss: 0.3767 - val_acc: 0.8533\n",
      "Epoch 9/200\n",
      "7872/7872 [==============================] - 25s - loss: 0.3074 - acc: 0.8341 - val_loss: 0.2544 - val_acc: 0.8928\n",
      "Epoch 10/200\n",
      "7872/7872 [==============================] - 24s - loss: 0.2896 - acc: 0.8410 - val_loss: 0.2964 - val_acc: 0.8465\n",
      "Epoch 11/200\n",
      "7872/7872 [==============================] - 24s - loss: 0.2726 - acc: 0.8507 - val_loss: 0.3123 - val_acc: 0.8818\n",
      "Epoch 12/200\n",
      "7872/7872 [==============================] - 30s - loss: 0.2568 - acc: 0.8575 - val_loss: 0.2232 - val_acc: 0.8910\n",
      "Epoch 13/200\n",
      "7872/7872 [==============================] - 40s - loss: 0.2418 - acc: 0.8654 - val_loss: 0.2627 - val_acc: 0.8701\n",
      "Epoch 14/200\n",
      "7872/7872 [==============================] - 41s - loss: 0.2394 - acc: 0.8609 - val_loss: 0.3256 - val_acc: 0.8759\n",
      "Epoch 15/200\n",
      "7872/7872 [==============================] - 35s - loss: 0.2284 - acc: 0.8698 - val_loss: 0.2300 - val_acc: 0.8779\n",
      "Epoch 16/200\n",
      "7872/7872 [==============================] - 24s - loss: 0.2235 - acc: 0.8706 - val_loss: 0.2240 - val_acc: 0.8976\n",
      "Epoch 17/200\n",
      "7872/7872 [==============================] - 24s - loss: 0.2120 - acc: 0.8766 - val_loss: 0.2383 - val_acc: 0.8668\n",
      "Epoch 18/200\n",
      "7872/7872 [==============================] - 24s - loss: 0.2112 - acc: 0.8790 - val_loss: 0.2747 - val_acc: 0.8639\n",
      "Epoch 19/200\n",
      "7872/7872 [==============================] - 24s - loss: 0.2002 - acc: 0.8799 - val_loss: 0.2418 - val_acc: 0.9009\n",
      "Epoch 20/200\n",
      "7872/7872 [==============================] - 25s - loss: 0.2004 - acc: 0.8803 - val_loss: 0.2177 - val_acc: 0.8880\n",
      "Epoch 21/200\n",
      "7872/7872 [==============================] - 25s - loss: 0.1932 - acc: 0.8852 - val_loss: 0.1963 - val_acc: 0.8961\n",
      "Epoch 22/200\n",
      "7872/7872 [==============================] - 25s - loss: 0.1888 - acc: 0.8866 - val_loss: 0.1962 - val_acc: 0.9023\n",
      "Epoch 23/200\n",
      "7872/7872 [==============================] - 24s - loss: 0.1887 - acc: 0.8850 - val_loss: 0.2189 - val_acc: 0.9128\n",
      "Epoch 24/200\n",
      "7872/7872 [==============================] - 24s - loss: 0.1826 - acc: 0.8886 - val_loss: 0.2493 - val_acc: 0.9069\n",
      "Epoch 25/200\n",
      "7872/7872 [==============================] - 25s - loss: 0.1783 - acc: 0.8904 - val_loss: 0.1878 - val_acc: 0.8932\n",
      "Epoch 26/200\n",
      "7872/7872 [==============================] - 25s - loss: 0.1755 - acc: 0.8923 - val_loss: 0.1834 - val_acc: 0.9073\n",
      "Epoch 27/200\n",
      "7872/7872 [==============================] - 24s - loss: 0.1710 - acc: 0.8947 - val_loss: 0.1972 - val_acc: 0.9049\n",
      "Epoch 28/200\n",
      "7872/7872 [==============================] - 24s - loss: 0.1711 - acc: 0.8970 - val_loss: 0.1944 - val_acc: 0.9100\n",
      "Epoch 29/200\n",
      "7872/7872 [==============================] - 25s - loss: 0.1653 - acc: 0.8986 - val_loss: 0.1800 - val_acc: 0.9050\n",
      "Epoch 30/200\n",
      "7872/7872 [==============================] - 24s - loss: 0.1672 - acc: 0.8966 - val_loss: 0.1863 - val_acc: 0.8949\n",
      "Epoch 31/200\n",
      "7872/7872 [==============================] - 25s - loss: 0.1620 - acc: 0.8994 - val_loss: 0.1799 - val_acc: 0.9058\n",
      "Epoch 32/200\n",
      "7872/7872 [==============================] - 24s - loss: 0.1585 - acc: 0.9006 - val_loss: 0.2182 - val_acc: 0.8822\n",
      "Epoch 33/200\n",
      "7872/7872 [==============================] - 24s - loss: 0.1566 - acc: 0.9014 - val_loss: 0.1943 - val_acc: 0.8962\n",
      "Epoch 34/200\n",
      "7872/7872 [==============================] - 24s - loss: 0.1535 - acc: 0.9025 - val_loss: 0.1810 - val_acc: 0.9134\n",
      "Epoch 35/200\n",
      "7872/7872 [==============================] - 25s - loss: 0.1518 - acc: 0.9057 - val_loss: 0.2041 - val_acc: 0.9177\n",
      "Epoch 36/200\n",
      "7872/7872 [==============================] - 26s - loss: 0.1477 - acc: 0.9062 - val_loss: 0.1767 - val_acc: 0.9178\n",
      "Epoch 37/200\n",
      "7872/7872 [==============================] - 26s - loss: 0.1501 - acc: 0.9080 - val_loss: 0.1743 - val_acc: 0.9163\n",
      "Epoch 38/200\n",
      "7872/7872 [==============================] - 26s - loss: 0.1485 - acc: 0.9063 - val_loss: 0.1707 - val_acc: 0.9066\n",
      "Epoch 39/200\n",
      "7872/7872 [==============================] - 25s - loss: 0.1440 - acc: 0.9071 - val_loss: 0.1697 - val_acc: 0.9099\n",
      "Epoch 40/200\n",
      "7872/7872 [==============================] - 25s - loss: 0.1416 - acc: 0.9106 - val_loss: 0.1674 - val_acc: 0.9103\n",
      "Epoch 41/200\n",
      "7872/7872 [==============================] - 24s - loss: 0.1386 - acc: 0.9102 - val_loss: 0.2119 - val_acc: 0.9189\n",
      "Epoch 42/200\n",
      "7872/7872 [==============================] - 24s - loss: 0.1409 - acc: 0.9093 - val_loss: 0.1920 - val_acc: 0.8930\n",
      "Epoch 43/200\n",
      "7872/7872 [==============================] - 25s - loss: 0.1383 - acc: 0.9103 - val_loss: 0.1622 - val_acc: 0.9165\n",
      "Epoch 44/200\n",
      "7872/7872 [==============================] - 24s - loss: 0.1351 - acc: 0.9114 - val_loss: 0.1767 - val_acc: 0.9036\n",
      "Epoch 45/200\n",
      "7872/7872 [==============================] - 24s - loss: 0.1351 - acc: 0.9134 - val_loss: 0.1718 - val_acc: 0.9211\n",
      "Epoch 46/200\n",
      "7872/7872 [==============================] - 24s - loss: 0.1341 - acc: 0.9115 - val_loss: 0.1697 - val_acc: 0.9210\n",
      "Epoch 47/200\n",
      "7872/7872 [==============================] - 24s - loss: 0.1308 - acc: 0.9137 - val_loss: 0.1640 - val_acc: 0.9106\n",
      "Epoch 48/200\n",
      "7872/7872 [==============================] - 24s - loss: 0.1322 - acc: 0.9148 - val_loss: 0.1695 - val_acc: 0.9157\n",
      "Epoch 49/200\n",
      "7872/7872 [==============================] - 24s - loss: 0.1290 - acc: 0.9173 - val_loss: 0.1639 - val_acc: 0.9169\n",
      "Epoch 50/200\n",
      "7872/7872 [==============================] - 24s - loss: 0.1303 - acc: 0.9146 - val_loss: 0.1745 - val_acc: 0.9043\n",
      "Epoch 51/200\n",
      "7872/7872 [==============================] - 24s - loss: 0.1276 - acc: 0.9146 - val_loss: 0.1645 - val_acc: 0.9120\n",
      "Epoch 52/200\n",
      "7872/7872 [==============================] - 24s - loss: 0.1265 - acc: 0.9160 - val_loss: 0.1662 - val_acc: 0.9164\n",
      "Epoch 53/200\n",
      "7872/7872 [==============================] - 24s - loss: 0.1247 - acc: 0.9160 - val_loss: 0.1876 - val_acc: 0.9172\n",
      "Epoch 54/200\n",
      "7872/7872 [==============================] - 25s - loss: 0.1223 - acc: 0.9195 - val_loss: 0.1599 - val_acc: 0.9164\n",
      "Epoch 55/200\n",
      "7872/7872 [==============================] - 26s - loss: 0.1239 - acc: 0.9199 - val_loss: 0.1563 - val_acc: 0.9192\n",
      "Epoch 56/200\n",
      "7872/7872 [==============================] - 24s - loss: 0.1228 - acc: 0.9170 - val_loss: 0.1764 - val_acc: 0.9012\n",
      "Epoch 57/200\n",
      "7872/7872 [==============================] - 24s - loss: 0.1202 - acc: 0.9191 - val_loss: 0.1771 - val_acc: 0.9053\n",
      "Epoch 58/200\n",
      "7872/7872 [==============================] - 24s - loss: 0.1198 - acc: 0.9207 - val_loss: 0.1767 - val_acc: 0.9220\n",
      "Epoch 59/200\n",
      "7872/7872 [==============================] - 24s - loss: 0.1191 - acc: 0.9202 - val_loss: 0.1666 - val_acc: 0.9197\n",
      "Epoch 60/200\n",
      "7872/7872 [==============================] - 24s - loss: 0.1177 - acc: 0.9208 - val_loss: 0.1586 - val_acc: 0.9211\n",
      "Epoch 61/200\n",
      "7872/7872 [==============================] - 24s - loss: 0.1173 - acc: 0.9210 - val_loss: 0.1716 - val_acc: 0.9269\n",
      "Epoch 62/200\n",
      "7872/7872 [==============================] - 26s - loss: 0.1167 - acc: 0.9203 - val_loss: 0.1553 - val_acc: 0.9219\n",
      "Epoch 63/200\n",
      "7872/7872 [==============================] - 24s - loss: 0.1149 - acc: 0.9215 - val_loss: 0.1555 - val_acc: 0.9214\n",
      "Epoch 64/200\n",
      "7872/7872 [==============================] - 24s - loss: 0.1149 - acc: 0.9207 - val_loss: 0.1593 - val_acc: 0.9143\n",
      "Epoch 65/200\n",
      "7872/7872 [==============================] - 24s - loss: 0.1122 - acc: 0.9229 - val_loss: 0.1970 - val_acc: 0.8972\n",
      "Epoch 66/200\n",
      "7872/7872 [==============================] - 24s - loss: 0.1134 - acc: 0.9228 - val_loss: 0.1582 - val_acc: 0.9178\n",
      "Epoch 67/200\n",
      "7872/7872 [==============================] - 24s - loss: 0.1127 - acc: 0.9214 - val_loss: 0.1602 - val_acc: 0.9186\n",
      "Epoch 68/200\n",
      "7872/7872 [==============================] - 24s - loss: 0.1120 - acc: 0.9232 - val_loss: 0.1593 - val_acc: 0.9129\n",
      "Epoch 69/200\n",
      "7872/7872 [==============================] - 25s - loss: 0.1113 - acc: 0.9239 - val_loss: 0.1550 - val_acc: 0.9120\n",
      "Epoch 70/200\n",
      "7872/7872 [==============================] - 24s - loss: 0.1115 - acc: 0.9255 - val_loss: 0.1579 - val_acc: 0.9111\n",
      "Epoch 71/200\n",
      "7872/7872 [==============================] - 26s - loss: 0.1089 - acc: 0.9240 - val_loss: 0.1541 - val_acc: 0.9169\n",
      "Epoch 72/200\n",
      "7872/7872 [==============================] - 24s - loss: 0.1076 - acc: 0.9263 - val_loss: 0.1582 - val_acc: 0.9153\n",
      "Epoch 73/200\n",
      "7872/7872 [==============================] - 25s - loss: 0.1073 - acc: 0.9254 - val_loss: 0.1517 - val_acc: 0.9160\n",
      "Epoch 74/200\n",
      "7872/7872 [==============================] - 24s - loss: 0.1083 - acc: 0.9252 - val_loss: 0.1571 - val_acc: 0.9256\n",
      "Epoch 75/200\n",
      "7872/7872 [==============================] - 24s - loss: 0.1061 - acc: 0.9265 - val_loss: 0.1596 - val_acc: 0.9259\n",
      "Epoch 76/200\n",
      "7872/7872 [==============================] - 24s - loss: 0.1065 - acc: 0.9252 - val_loss: 0.1823 - val_acc: 0.9226\n",
      "Epoch 77/200\n",
      "7872/7872 [==============================] - 25s - loss: 0.1067 - acc: 0.9265 - val_loss: 0.1474 - val_acc: 0.9157\n",
      "Epoch 78/200\n",
      "7872/7872 [==============================] - 24s - loss: 0.1061 - acc: 0.9246 - val_loss: 0.1674 - val_acc: 0.9220\n",
      "Epoch 79/200\n",
      "7872/7872 [==============================] - 24s - loss: 0.1043 - acc: 0.9264 - val_loss: 0.1608 - val_acc: 0.9244\n",
      "Epoch 80/200\n",
      "7872/7872 [==============================] - 24s - loss: 0.1053 - acc: 0.9271 - val_loss: 0.1585 - val_acc: 0.9149\n",
      "Epoch 81/200\n",
      "7872/7872 [==============================] - 24s - loss: 0.1046 - acc: 0.9264 - val_loss: 0.1589 - val_acc: 0.9192\n",
      "Epoch 82/200\n",
      "7872/7872 [==============================] - 24s - loss: 0.1035 - acc: 0.9264 - val_loss: 0.1570 - val_acc: 0.9141\n",
      "Epoch 83/200\n",
      "7872/7872 [==============================] - 24s - loss: 0.1023 - acc: 0.9269 - val_loss: 0.1560 - val_acc: 0.9108\n",
      "Epoch 84/200\n",
      "7872/7872 [==============================] - 25s - loss: 0.1017 - acc: 0.9278 - val_loss: 0.1470 - val_acc: 0.9228\n",
      "Epoch 85/200\n",
      "7872/7872 [==============================] - 24s - loss: 0.1018 - acc: 0.9290 - val_loss: 0.1765 - val_acc: 0.9064\n",
      "Epoch 86/200\n",
      "7872/7872 [==============================] - 24s - loss: 0.1014 - acc: 0.9274 - val_loss: 0.1536 - val_acc: 0.9200\n",
      "Epoch 87/200\n",
      "7872/7872 [==============================] - 24s - loss: 0.1004 - acc: 0.9291 - val_loss: 0.1596 - val_acc: 0.9271\n",
      "Epoch 88/200\n",
      "7872/7872 [==============================] - 24s - loss: 0.1022 - acc: 0.9271 - val_loss: 0.1616 - val_acc: 0.9133\n",
      "Epoch 89/200\n",
      "7872/7872 [==============================] - 24s - loss: 0.1003 - acc: 0.9284 - val_loss: 0.1486 - val_acc: 0.9237\n",
      "Epoch 90/200\n",
      "7872/7872 [==============================] - 24s - loss: 0.0998 - acc: 0.9285 - val_loss: 0.1499 - val_acc: 0.9240\n",
      "Epoch 91/200\n",
      "7872/7872 [==============================] - 25s - loss: 0.0982 - acc: 0.9298 - val_loss: 0.1428 - val_acc: 0.9264\n",
      "Epoch 92/200\n",
      "7872/7872 [==============================] - 24s - loss: 0.1002 - acc: 0.9295 - val_loss: 0.1456 - val_acc: 0.9258\n",
      "Epoch 93/200\n",
      "7872/7872 [==============================] - 24s - loss: 0.0987 - acc: 0.9305 - val_loss: 0.1449 - val_acc: 0.9205\n",
      "Epoch 94/200\n",
      "7872/7872 [==============================] - 24s - loss: 0.0982 - acc: 0.9275 - val_loss: 0.1459 - val_acc: 0.9225\n",
      "Epoch 95/200\n",
      "7872/7872 [==============================] - 24s - loss: 0.0970 - acc: 0.9305 - val_loss: 0.1524 - val_acc: 0.9206\n",
      "Epoch 96/200\n",
      "7872/7872 [==============================] - 24s - loss: 0.0981 - acc: 0.9296 - val_loss: 0.1444 - val_acc: 0.9261\n",
      "Epoch 97/200\n",
      "7872/7872 [==============================] - 24s - loss: 0.0969 - acc: 0.9291 - val_loss: 0.1510 - val_acc: 0.9148\n",
      "Epoch 98/200\n",
      "7872/7872 [==============================] - 24s - loss: 0.0960 - acc: 0.9298 - val_loss: 0.1450 - val_acc: 0.9230\n",
      "Epoch 99/200\n",
      "7872/7872 [==============================] - 24s - loss: 0.0978 - acc: 0.9306 - val_loss: 0.1504 - val_acc: 0.9178\n",
      "Epoch 100/200\n",
      "7872/7872 [==============================] - 24s - loss: 0.0962 - acc: 0.9295 - val_loss: 0.1640 - val_acc: 0.9154\n",
      "Epoch 101/200\n",
      "7872/7872 [==============================] - 24s - loss: 0.0954 - acc: 0.9322 - val_loss: 0.1826 - val_acc: 0.9101\n",
      "Epoch 102/200\n",
      "7872/7872 [==============================] - 24s - loss: 0.0965 - acc: 0.9310 - val_loss: 0.1434 - val_acc: 0.9247\n",
      "Epoch 103/200\n",
      "7872/7872 [==============================] - 25s - loss: 0.0948 - acc: 0.9311 - val_loss: 0.1411 - val_acc: 0.9268\n",
      "Epoch 104/200\n",
      "7872/7872 [==============================] - 24s - loss: 0.0945 - acc: 0.9315 - val_loss: 0.1622 - val_acc: 0.9307\n",
      "Epoch 105/200\n",
      "7872/7872 [==============================] - 24s - loss: 0.0952 - acc: 0.9305 - val_loss: 0.1515 - val_acc: 0.9182\n",
      "Epoch 106/200\n",
      "7872/7872 [==============================] - 24s - loss: 0.0932 - acc: 0.9323 - val_loss: 0.1751 - val_acc: 0.9082\n",
      "Epoch 107/200\n",
      "7872/7872 [==============================] - 24s - loss: 0.0952 - acc: 0.9312 - val_loss: 0.1468 - val_acc: 0.9281\n",
      "Epoch 108/200\n",
      "7872/7872 [==============================] - 24s - loss: 0.0948 - acc: 0.9320 - val_loss: 0.1472 - val_acc: 0.9259\n",
      "Epoch 109/200\n",
      "7872/7872 [==============================] - 24s - loss: 0.0919 - acc: 0.9335 - val_loss: 0.1483 - val_acc: 0.9255\n",
      "Epoch 110/200\n",
      "7872/7872 [==============================] - 24s - loss: 0.0942 - acc: 0.9315 - val_loss: 0.1498 - val_acc: 0.9185\n",
      "Epoch 111/200\n",
      "7872/7872 [==============================] - 24s - loss: 0.0926 - acc: 0.9309 - val_loss: 0.1453 - val_acc: 0.9251\n",
      "Epoch 112/200\n",
      "7872/7872 [==============================] - 24s - loss: 0.0931 - acc: 0.9303 - val_loss: 0.1439 - val_acc: 0.9278\n",
      "Epoch 113/200\n",
      "7872/7872 [==============================] - 24s - loss: 0.0918 - acc: 0.9335 - val_loss: 0.1426 - val_acc: 0.9255\n",
      "Epoch 114/200\n",
      "7872/7872 [==============================] - 24s - loss: 0.0939 - acc: 0.9321 - val_loss: 0.1608 - val_acc: 0.9281\n",
      "Epoch 115/200\n",
      "7872/7872 [==============================] - 24s - loss: 0.0904 - acc: 0.9337 - val_loss: 0.1515 - val_acc: 0.9190\n",
      "Epoch 116/200\n",
      "7872/7872 [==============================] - 24s - loss: 0.0913 - acc: 0.9316 - val_loss: 0.1442 - val_acc: 0.9222\n",
      "Epoch 117/200\n",
      "7872/7872 [==============================] - 24s - loss: 0.0916 - acc: 0.9330 - val_loss: 0.1424 - val_acc: 0.9258\n",
      "Epoch 118/200\n",
      "7872/7872 [==============================] - 24s - loss: 0.0907 - acc: 0.9337 - val_loss: 0.1552 - val_acc: 0.9194\n",
      "Epoch 119/200\n",
      "7840/7872 [============================>.] - ETA: 0s - loss: 0.0914 - acc: 0.9339\n",
      "Epoch 00118: reducing learning rate to 0.00020000000949949026.\n",
      "7872/7872 [==============================] - 24s - loss: 0.0914 - acc: 0.9339 - val_loss: 0.1479 - val_acc: 0.9197\n",
      "Epoch 120/200\n",
      "7872/7872 [==============================] - 25s - loss: 0.0644 - acc: 0.9504 - val_loss: 0.1320 - val_acc: 0.9314\n",
      "Epoch 121/200\n",
      "7872/7872 [==============================] - 25s - loss: 0.0587 - acc: 0.9529 - val_loss: 0.1313 - val_acc: 0.9318\n",
      "Epoch 122/200\n",
      "7872/7872 [==============================] - 26s - loss: 0.0571 - acc: 0.9535 - val_loss: 0.1311 - val_acc: 0.9316\n",
      "Epoch 123/200\n",
      "7872/7872 [==============================] - 27s - loss: 0.0562 - acc: 0.9538 - val_loss: 0.1309 - val_acc: 0.9326\n",
      "Epoch 124/200\n",
      "7872/7872 [==============================] - 26s - loss: 0.0555 - acc: 0.9540 - val_loss: 0.1321 - val_acc: 0.9334\n",
      "Epoch 125/200\n",
      "7872/7872 [==============================] - 24s - loss: 0.0551 - acc: 0.9542 - val_loss: 0.1312 - val_acc: 0.9323\n",
      "Epoch 126/200\n",
      "7872/7872 [==============================] - 25s - loss: 0.0546 - acc: 0.9543 - val_loss: 0.1307 - val_acc: 0.9327\n",
      "Epoch 127/200\n",
      "7872/7872 [==============================] - 24s - loss: 0.0542 - acc: 0.9546 - val_loss: 0.1307 - val_acc: 0.9341\n",
      "Epoch 128/200\n",
      "7872/7872 [==============================] - 25s - loss: 0.0538 - acc: 0.9550 - val_loss: 0.1301 - val_acc: 0.9329\n",
      "Epoch 129/200\n",
      "7872/7872 [==============================] - 24s - loss: 0.0536 - acc: 0.9549 - val_loss: 0.1307 - val_acc: 0.9311\n",
      "Epoch 130/200\n",
      "7872/7872 [==============================] - 24s - loss: 0.0533 - acc: 0.9551 - val_loss: 0.1309 - val_acc: 0.9331\n",
      "Epoch 131/200\n",
      "7872/7872 [==============================] - 24s - loss: 0.0530 - acc: 0.9551 - val_loss: 0.1305 - val_acc: 0.9335\n",
      "Epoch 132/200\n",
      "7872/7872 [==============================] - 24s - loss: 0.0527 - acc: 0.9553 - val_loss: 0.1312 - val_acc: 0.9336\n",
      "Epoch 133/200\n",
      "7872/7872 [==============================] - 24s - loss: 0.0525 - acc: 0.9555 - val_loss: 0.1302 - val_acc: 0.9324\n",
      "Epoch 134/200\n",
      "7872/7872 [==============================] - 29s - loss: 0.0521 - acc: 0.9556 - val_loss: 0.1302 - val_acc: 0.9325\n",
      "Epoch 135/200\n",
      "7872/7872 [==============================] - 29s - loss: 0.0520 - acc: 0.9559 - val_loss: 0.1302 - val_acc: 0.9322\n",
      "Epoch 136/200\n",
      "7872/7872 [==============================] - 25s - loss: 0.0519 - acc: 0.9557 - val_loss: 0.1306 - val_acc: 0.9320\n",
      "Epoch 137/200\n",
      "7872/7872 [==============================] - 24s - loss: 0.0515 - acc: 0.9559 - val_loss: 0.1304 - val_acc: 0.9340\n",
      "Epoch 138/200\n",
      "7872/7872 [==============================] - 25s - loss: 0.0512 - acc: 0.9560 - val_loss: 0.1296 - val_acc: 0.9325\n",
      "Epoch 139/200\n",
      "7872/7872 [==============================] - 24s - loss: 0.0511 - acc: 0.9561 - val_loss: 0.1301 - val_acc: 0.9322\n",
      "Epoch 140/200\n",
      "7872/7872 [==============================] - 24s - loss: 0.0508 - acc: 0.9560 - val_loss: 0.1301 - val_acc: 0.9340\n",
      "Epoch 141/200\n",
      "7872/7872 [==============================] - 24s - loss: 0.0506 - acc: 0.9561 - val_loss: 0.1303 - val_acc: 0.9333\n",
      "Epoch 142/200\n",
      "7872/7872 [==============================] - 24s - loss: 0.0504 - acc: 0.9564 - val_loss: 0.1297 - val_acc: 0.9344\n",
      "Epoch 143/200\n",
      "7872/7872 [==============================] - 24s - loss: 0.0503 - acc: 0.9565 - val_loss: 0.1300 - val_acc: 0.9329\n",
      "Epoch 144/200\n",
      "7872/7872 [==============================] - 24s - loss: 0.0502 - acc: 0.9565 - val_loss: 0.1304 - val_acc: 0.9325\n",
      "Epoch 145/200\n",
      "7872/7872 [==============================] - 24s - loss: 0.0498 - acc: 0.9566 - val_loss: 0.1298 - val_acc: 0.9321\n",
      "Epoch 146/200\n",
      "7872/7872 [==============================] - 24s - loss: 0.0498 - acc: 0.9567 - val_loss: 0.1305 - val_acc: 0.9341\n",
      "Epoch 147/200\n",
      "7872/7872 [==============================] - 24s - loss: 0.0496 - acc: 0.9567 - val_loss: 0.1306 - val_acc: 0.9336\n",
      "Epoch 148/200\n",
      "7872/7872 [==============================] - 24s - loss: 0.0494 - acc: 0.9568 - val_loss: 0.1302 - val_acc: 0.9328\n",
      "Epoch 149/200\n",
      "7872/7872 [==============================] - 24s - loss: 0.0493 - acc: 0.9567 - val_loss: 0.1300 - val_acc: 0.9326\n",
      "Epoch 150/200\n",
      "7872/7872 [==============================] - 24s - loss: 0.0491 - acc: 0.9568 - val_loss: 0.1297 - val_acc: 0.9326\n",
      "Epoch 151/200\n",
      "7872/7872 [==============================] - 24s - loss: 0.0490 - acc: 0.9568 - val_loss: 0.1300 - val_acc: 0.9335\n",
      "Epoch 152/200\n",
      "7872/7872 [==============================] - 24s - loss: 0.0488 - acc: 0.9570 - val_loss: 0.1300 - val_acc: 0.9331\n",
      "Epoch 153/200\n",
      "7872/7872 [==============================] - 24s - loss: 0.0487 - acc: 0.9571 - val_loss: 0.1302 - val_acc: 0.9328\n",
      "Epoch 154/200\n",
      "7872/7872 [==============================] - 24s - loss: 0.0486 - acc: 0.9572 - val_loss: 0.1304 - val_acc: 0.9334\n",
      "Epoch 155/200\n",
      "7872/7872 [==============================] - 24s - loss: 0.0485 - acc: 0.9572 - val_loss: 0.1301 - val_acc: 0.9331\n",
      "Epoch 156/200\n",
      "7872/7872 [==============================] - 24s - loss: 0.0483 - acc: 0.9570 - val_loss: 0.1306 - val_acc: 0.9325\n",
      "Epoch 157/200\n",
      "7872/7872 [==============================] - 24s - loss: 0.0481 - acc: 0.9573 - val_loss: 0.1302 - val_acc: 0.9343\n",
      "Epoch 158/200\n",
      "7872/7872 [==============================] - 24s - loss: 0.0480 - acc: 0.9574 - val_loss: 0.1300 - val_acc: 0.9326\n",
      "Epoch 159/200\n",
      "7872/7872 [==============================] - 24s - loss: 0.0480 - acc: 0.9575 - val_loss: 0.1300 - val_acc: 0.9337\n",
      "Epoch 160/200\n",
      "7872/7872 [==============================] - 24s - loss: 0.0478 - acc: 0.9575 - val_loss: 0.1307 - val_acc: 0.9342\n",
      "Epoch 161/200\n",
      "7872/7872 [==============================] - 24s - loss: 0.0477 - acc: 0.9575 - val_loss: 0.1300 - val_acc: 0.9337\n",
      "Epoch 162/200\n",
      "7872/7872 [==============================] - 25s - loss: 0.0476 - acc: 0.9576 - val_loss: 0.1294 - val_acc: 0.9332\n",
      "Epoch 163/200\n",
      "7872/7872 [==============================] - 24s - loss: 0.0476 - acc: 0.9578 - val_loss: 0.1300 - val_acc: 0.9326\n",
      "Epoch 164/200\n",
      "7872/7872 [==============================] - 24s - loss: 0.0473 - acc: 0.9577 - val_loss: 0.1301 - val_acc: 0.9332\n",
      "Epoch 165/200\n",
      "7872/7872 [==============================] - 24s - loss: 0.0474 - acc: 0.9576 - val_loss: 0.1298 - val_acc: 0.9328\n",
      "Epoch 166/200\n",
      "7872/7872 [==============================] - 24s - loss: 0.0472 - acc: 0.9578 - val_loss: 0.1297 - val_acc: 0.9329\n",
      "Epoch 167/200\n",
      "7872/7872 [==============================] - 24s - loss: 0.0470 - acc: 0.9577 - val_loss: 0.1299 - val_acc: 0.9339\n",
      "Epoch 168/200\n",
      "7872/7872 [==============================] - 24s - loss: 0.0469 - acc: 0.9581 - val_loss: 0.1301 - val_acc: 0.9332\n",
      "Epoch 169/200\n",
      "7872/7872 [==============================] - 24s - loss: 0.0469 - acc: 0.9578 - val_loss: 0.1296 - val_acc: 0.9337\n",
      "Epoch 170/200\n",
      "7872/7872 [==============================] - 24s - loss: 0.0468 - acc: 0.9581 - val_loss: 0.1296 - val_acc: 0.9336\n",
      "Epoch 171/200\n",
      "7872/7872 [==============================] - 24s - loss: 0.0467 - acc: 0.9581 - val_loss: 0.1297 - val_acc: 0.9328\n",
      "Epoch 172/200\n",
      "7872/7872 [==============================] - 55s - loss: 0.0467 - acc: 0.9581 - val_loss: 0.1297 - val_acc: 0.9332\n",
      "Epoch 173/200\n",
      "7872/7872 [==============================] - 59s - loss: 0.0466 - acc: 0.9580 - val_loss: 0.1296 - val_acc: 0.9333\n",
      "Epoch 174/200\n",
      "7872/7872 [==============================] - 40s - loss: 0.0466 - acc: 0.9580 - val_loss: 0.1296 - val_acc: 0.9332\n",
      "Epoch 175/200\n",
      "7872/7872 [==============================] - 37s - loss: 0.0464 - acc: 0.9582 - val_loss: 0.1299 - val_acc: 0.9334\n",
      "Epoch 176/200\n",
      "7872/7872 [==============================] - 37s - loss: 0.0463 - acc: 0.9581 - val_loss: 0.1299 - val_acc: 0.9327\n",
      "Epoch 177/200\n",
      "7872/7872 [==============================] - 37s - loss: 0.0462 - acc: 0.9582 - val_loss: 0.1300 - val_acc: 0.9344\n",
      "Epoch 178/200\n",
      "7872/7872 [==============================] - 39s - loss: 0.0461 - acc: 0.9585 - val_loss: 0.1294 - val_acc: 0.9340\n",
      "Epoch 179/200\n",
      "7872/7872 [==============================] - 43s - loss: 0.0461 - acc: 0.9582 - val_loss: 0.1301 - val_acc: 0.9333\n",
      "Epoch 180/200\n",
      "7872/7872 [==============================] - 40s - loss: 0.0460 - acc: 0.9583 - val_loss: 0.1299 - val_acc: 0.9327\n",
      "Epoch 181/200\n",
      "7872/7872 [==============================] - 39s - loss: 0.0458 - acc: 0.9581 - val_loss: 0.1295 - val_acc: 0.9336\n",
      "Epoch 182/200\n",
      "7872/7872 [==============================] - 39s - loss: 0.0458 - acc: 0.9583 - val_loss: 0.1298 - val_acc: 0.9349\n",
      "Epoch 183/200\n",
      "7872/7872 [==============================] - 37s - loss: 0.0458 - acc: 0.9585 - val_loss: 0.1300 - val_acc: 0.9328\n",
      "Epoch 184/200\n",
      "7872/7872 [==============================] - 35s - loss: 0.0457 - acc: 0.9586 - val_loss: 0.1296 - val_acc: 0.9336\n",
      "Epoch 185/200\n",
      "7840/7872 [============================>.] - ETA: 0s - loss: 0.0458 - acc: 0.9584\n",
      "Epoch 00184: reducing learning rate to 2.0000000949949027e-05.\n",
      "7872/7872 [==============================] - 32s - loss: 0.0458 - acc: 0.9584 - val_loss: 0.1297 - val_acc: 0.9344\n",
      "Epoch 186/200\n",
      "7872/7872 [==============================] - 30s - loss: 0.0434 - acc: 0.9602 - val_loss: 0.1291 - val_acc: 0.9342\n",
      "Epoch 187/200\n",
      "7872/7872 [==============================] - 31s - loss: 0.0431 - acc: 0.9604 - val_loss: 0.1289 - val_acc: 0.9339\n",
      "Epoch 188/200\n",
      "7872/7872 [==============================] - 24s - loss: 0.0430 - acc: 0.9604 - val_loss: 0.1290 - val_acc: 0.9338\n",
      "Epoch 189/200\n",
      "7872/7872 [==============================] - 24s - loss: 0.0430 - acc: 0.9605 - val_loss: 0.1291 - val_acc: 0.9341\n",
      "Epoch 190/200\n",
      "7872/7872 [==============================] - 24s - loss: 0.0429 - acc: 0.9605 - val_loss: 0.1290 - val_acc: 0.9339\n",
      "Epoch 191/200\n",
      "7872/7872 [==============================] - 24s - loss: 0.0429 - acc: 0.9605 - val_loss: 0.1291 - val_acc: 0.9340\n",
      "Epoch 192/200\n",
      "7872/7872 [==============================] - 24s - loss: 0.0429 - acc: 0.9605 - val_loss: 0.1291 - val_acc: 0.9340\n",
      "Epoch 193/200\n",
      "7840/7872 [============================>.] - ETA: 0s - loss: 0.0429 - acc: 0.9605\n",
      "Epoch 00192: reducing learning rate to 2.0000001313746906e-06.\n",
      "7872/7872 [==============================] - 24s - loss: 0.0429 - acc: 0.9605 - val_loss: 0.1291 - val_acc: 0.9341\n",
      "Epoch 194/200\n",
      "7872/7872 [==============================] - 24s - loss: 0.0426 - acc: 0.9607 - val_loss: 0.1290 - val_acc: 0.9340\n",
      "Epoch 195/200\n",
      "7872/7872 [==============================] - 24s - loss: 0.0426 - acc: 0.9607 - val_loss: 0.1290 - val_acc: 0.9341\n",
      "Epoch 196/200\n",
      "7872/7872 [==============================] - 24s - loss: 0.0426 - acc: 0.9607 - val_loss: 0.1290 - val_acc: 0.9341\n",
      "Epoch 197/200\n",
      "7872/7872 [==============================] - 24s - loss: 0.0426 - acc: 0.9608 - val_loss: 0.1290 - val_acc: 0.9340\n",
      "Epoch 198/200\n",
      "7840/7872 [============================>.] - ETA: 0s - loss: 0.0426 - acc: 0.9609\n",
      "Epoch 00197: reducing learning rate to 2.000000222324161e-07.\n",
      "7872/7872 [==============================] - 24s - loss: 0.0426 - acc: 0.9607 - val_loss: 0.1290 - val_acc: 0.9341\n",
      "Epoch 199/200\n",
      "7872/7872 [==============================] - 24s - loss: 0.0425 - acc: 0.9608 - val_loss: 0.1290 - val_acc: 0.9341\n",
      "Epoch 200/200\n",
      "7872/7872 [==============================] - 24s - loss: 0.0425 - acc: 0.9608 - val_loss: 0.1290 - val_acc: 0.9340\n"
     ]
    }
   ],
   "source": [
    "# pretrain/test\n",
    "generator.compile(loss='mae',optimizer='nadam', metrics=['accuracy'])\n",
    "history = generator.fit(\n",
    "    y_train,X_train,\n",
    "    verbose=1, nb_epoch=200, batch_size=batch_size,\n",
    "              validation_data=[y_val, X_val], shuffle='batch',\n",
    "              callbacks=[\n",
    "                    keras.callbacks.EarlyStopping(patience=9, monitor='loss'),\n",
    "                    keras.callbacks.ReduceLROnPlateau(monitor='loss', patience=3, verbose=1),\n",
    "                    keras.callbacks.ModelCheckpoint(output_dir.joinpath('model.hdf5'), save_best_only=True),\n",
    "                    keras.callbacks.CSVLogger(output_dir.joinpath('log-%s.log'%ts)),\n",
    "                    keras.callbacks.TensorBoard(log_dir=output_dir),\n",
    "                    \n",
    "\n",
    "                ]\n",
    "             )"
   ]
  },
  {
   "cell_type": "code",
   "execution_count": 48,
   "metadata": {
    "ExecuteTime": {
     "end_time": "2016-11-18T09:19:02.004511",
     "start_time": "2016-11-18T09:19:01.622772"
    },
    "collapsed": false
   },
   "outputs": [
    {
     "data": {
      "image/png": "[encoded data removed]",
      "text/plain": [
       "<matplotlib.figure.Figure at 0x7f64845743c8>"
      ]
     },
     "metadata": {},
     "output_type": "display_data"
    },
    {
     "data": {
      "text/plain": [
       "<matplotlib.axes._subplots.AxesSubplot at 0x7f6495f970b8>"
      ]
     },
     "execution_count": 48,
     "metadata": {},
     "output_type": "execute_result"
    },
    {
     "data": {
      "image/png": "[encoded data removed]",
      "text/plain": [
       "<matplotlib.figure.Figure at 0x7f64a4b7d438>"
      ]
     },
     "metadata": {},
     "output_type": "display_data"
    }
   ],
   "source": [
    "df = pd.DataFrame.from_dict(history.history)\n",
    "df[['acc','val_acc']].plot()\n",
    "plt.show()\n",
    "df[['loss','val_loss']].plot()"
   ]
  },
  {
   "cell_type": "code",
   "execution_count": 50,
   "metadata": {
    "ExecuteTime": {
     "end_time": "2016-11-18T09:19:16.935331",
     "start_time": "2016-11-18T09:19:14.234755"
    },
    "collapsed": false
   },
   "outputs": [
    {
     "name": "stdout",
     "output_type": "stream",
     "text": [
      "960/960 [==============================] - 2s     \n"
     ]
    },
    {
     "data": {
      "text/plain": [
       "{'acc': 0.92633376916249588, 'loss': 0.12936650961637497}"
      ]
     },
     "execution_count": 50,
     "metadata": {},
     "output_type": "execute_result"
    }
   ],
   "source": [
    "score = generator.evaluate(y_test,X_test, verbose=1, batch_size=batch_size)\n",
    "score = dict(zip(generator.metrics_names,score))\n",
    "score"
   ]
  },
  {
   "cell_type": "code",
   "execution_count": 51,
   "metadata": {
    "ExecuteTime": {
     "end_time": "2016-11-18T09:19:21.687115",
     "start_time": "2016-11-18T09:19:20.537028"
    },
    "collapsed": false
   },
   "outputs": [
    {
     "data": {
      "text/plain": [
       "Path('../outputs/20161117-193527_None_vae_data/model_acc_0.93_date_2016-11-17_23-49-51.hdf')"
      ]
     },
     "execution_count": 51,
     "metadata": {},
     "output_type": "execute_result"
    }
   ],
   "source": [
    "model_file=output_dir.joinpath('model_acc_%2.2f_date_%s.hdf'%(score['acc'],ts))\n",
    "generator.save(model_file)\n",
    "model_file"
   ]
  },
  {
   "cell_type": "code",
   "execution_count": 25,
   "metadata": {
    "ExecuteTime": {
     "end_time": "2016-11-18T13:35:15.783313",
     "start_time": "2016-11-18T13:35:12.302621"
    },
    "collapsed": true
   },
   "outputs": [],
   "source": [
    "# load old model\n",
    "generator = keras.models.load_model('../outputs/20161117-193527_None_vae_data/model_acc_0.93_date_2016-11-17_23-49-51.hdf')"
   ]
  },
  {
   "cell_type": "markdown",
   "metadata": {
    "collapsed": true
   },
   "source": [
    "## Export model to keras-js\n",
    "https://github.com/transcranial/keras-js\n",
    "\n",
    "to view serve the directory \n",
    "```sh\n",
    "cd ../output/kerasjs_and_threej\n",
    "http-server -o &\n",
    "```"
   ]
  },
  {
   "cell_type": "code",
   "execution_count": 37,
   "metadata": {
    "ExecuteTime": {
     "end_time": "2016-11-18T13:37:07.010852",
     "start_time": "2016-11-18T13:37:06.699184"
    },
    "collapsed": false
   },
   "outputs": [],
   "source": [
    "# outputs dir \n",
    "output_dirk = Path('../output/kerasjs_and_threejs/data')\n",
    "output_dirk.makedirs_p()\n",
    "\n",
    "# export weights\n",
    "generator.save_weights(output_dirk.joinpath('model.hdf5'))\n",
    "with open(output_dirk.joinpath('model.json'), 'w') as f:\n",
    "    f.write(generator.to_json())\n",
    "    \n",
    "# also export metadata\n",
    "json.dump(modifier_names,open(output_dirk.joinpath('labels.json'),'w'))"
   ]
  },
  {
   "cell_type": "code",
   "execution_count": 38,
   "metadata": {
    "ExecuteTime": {
     "end_time": "2016-11-18T13:37:07.744674",
     "start_time": "2016-11-18T13:37:07.082130"
    },
    "collapsed": false
   },
   "outputs": [],
   "source": [
    "!python ../output/kerasjs_and_threejs/node_modules/keras-js/encoder.py ../output/kerasjs_and_threejs/data/model.hdf5"
   ]
  },
  {
   "cell_type": "code",
   "execution_count": 39,
   "metadata": {
    "ExecuteTime": {
     "end_time": "2016-11-18T13:37:08.364623",
     "start_time": "2016-11-18T13:37:07.746639"
    },
    "collapsed": false
   },
   "outputs": [],
   "source": [
    "# and also export vanilla version\n",
    "output_data = json.load(open(data_path.joinpath('basemodel.json')))\n",
    "output_file = output_dirk.joinpath('human_base.json')\n",
    "json.dump(output_data, open(output_file,'w'), sort_keys=True)"
   ]
  }
 ],
 "metadata": {
  "hide_input": false,
  "kernelspec": {
   "display_name": "Python 2",
   "language": "python",
   "name": "python2"
  },
  "language_info": {
   "codemirror_mode": {
    "name": "ipython",
    "version": 2.0
   },
   "file_extension": ".py",
   "mimetype": "text/x-python",
   "name": "python",
   "nbconvert_exporter": "python",
   "pygments_lexer": "ipython2",
   "version": "2.7.13"
  },
  "toc": {
   "toc_cell": false,
   "toc_number_sections": true,
   "toc_threshold": 6.0,
   "toc_window_display": false
  }
 },
 "nbformat": 4,
 "nbformat_minor": 0
}